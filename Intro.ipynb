{
 "cells": [
  {
   "cell_type": "markdown",
   "metadata": {
    "slideshow": {
     "slide_type": "slide"
    }
   },
   "source": [
    "# Python for data analysis\n",
    "\n",
    "Powerful, easy-to-use dynamic language, with huge ecosystem of useful packages:\n",
    "+ **NumPy** for manipulation of homogeneous array-based data\n",
    "+ **Pandas** for manipulation of heterogeneous and labeled data\n",
    "+ **SciPy** for common scientific computing tasks\n",
    "+ **Matplotlib** for publication-quality visualizations\n",
    "+ **IPython** for interactive execution and sharing of code\n",
    "+ **Scikit-Learn** for machine learning\n",
    "+ **Jupyter** for interactive notebooks, a possible alternative for spreadsheets\n",
    "+ many others ...\n",
    "\n",
    "This notebook introduces Python  itself. It can only touch on some of the more advanced features of the language, but should be sufficient as a base from which to start exploring this ecosystem. Notebooks introducting Numpy, Pandas and Matplotlib will follow."
   ]
  },
  {
   "cell_type": "markdown",
   "metadata": {
    "slideshow": {
     "slide_type": "slide"
    }
   },
   "source": [
    "## Anaconda ##\n",
    "\n",
    "[Anaconda](https://www.anaconda.com/download/) is a popular distribution for data science. It contains Python, conda (a package manager) and many packages, including the ones mentioned [earlier](#Python-for-data-analysis).\n",
    "\n",
    "If you are strapped for space, get [Miniconda](https://conda.io/miniconda.html): this only installs Python and the conda package manager. You can then use the latter to install whatever else you may need for your specific projects. \n",
    "\n",
    "\n",
    "### Python 2 or Python 3? ###\n",
    "\n",
    "As is still usual in the Python ecosystem in general, Anaconda offers a choice of Python 2.x and Python 3.x versions. The default should be to go for Python3, as time is starting to [run out](https://pythonclock.org/) for Python2.\n",
    "\n",
    "Most packages have been converted from 2 to 3 anyway: [PyReadiness checklist](http://py3readiness.org/)\n",
    "        \n",
    "For more history and discussion on this, see [here](https://wiki.python.org/moin/Python2orPython3)."
   ]
  },
  {
   "cell_type": "markdown",
   "metadata": {},
   "source": [
    "### Hello world\n",
    "[Hello world](https://helloworldcollection.github.io/#Python%C2%A02)"
   ]
  },
  {
   "cell_type": "markdown",
   "metadata": {
    "slideshow": {
     "slide_type": "slide"
    }
   },
   "source": [
    "# Python\n",
    "Python is both an interpreter and a language. The interpreter executes statements or evaluates expressions written in Python. The interpreter is an executable that runs on all familiar (and most unfamiliar) platforms. It is also the engine (kernel) that executes the code in this Jupyter notebook. \n",
    "\n",
    "To start the interpreter, type `python` in a terminal or command prompt window. This will give you a Python prompt (>>>). Enter a Python statement or expression and hit return. Python will return a result and wait for your next move. To quit the interpreter, type `quit()`.\n",
    "\n",
    "![alt text](figs/pythonprompt.jpg)\n"
   ]
  },
  {
   "cell_type": "markdown",
   "metadata": {
    "collapsed": true,
    "slideshow": {
     "slide_type": "fragment"
    }
   },
   "source": [
    "Let's do some calculations:\n",
    "\n",
    "![alt text](figs/pythonpromptlater.jpg)\n"
   ]
  },
  {
   "cell_type": "markdown",
   "metadata": {
    "slideshow": {
     "slide_type": "fragment"
    }
   },
   "source": [
    "# IPython\n",
    "If you have installed Anaconda, you can also start IPython. This adds a number of useful enhancements to your basic Python interpreter. \n",
    "\n",
    "![alt text](figs/ipython.jpg)\n",
    "\n",
    "As you can see, it numbers your inputs and outputs. This makes it possible to reuse these later on. But IPython offers much more magic, as we will see during this course.\n",
    "\n",
    "IPython is the kernel being used to execute the Python code we can enter in code cells in notebooks like this one."
   ]
  },
  {
   "cell_type": "code",
   "execution_count": 2,
   "metadata": {},
   "outputs": [
    {
     "name": "stdout",
     "output_type": "stream",
     "text": [
      "Hello woorld\n"
     ]
    }
   ],
   "source": [
    "print(\"Hello woorld\")"
   ]
  },
  {
   "cell_type": "markdown",
   "metadata": {
    "collapsed": true,
    "slideshow": {
     "slide_type": "slide"
    }
   },
   "source": [
    "# Spyder \n",
    "IPython is also used by Spyder, the Integrated Development Environment (IDE) included in Anaconda. We will stick to Spyder in this course, but be aware that there are many (excellent)\n",
    "alternative IDE's for Python development on offer:\n",
    "+ IDLE (comes with the Python distributions you can get at [Python.org](https://python.org)\n",
    "+ [Eclipse](https://eclipse.org) with [Pydev](http://www.pydev.org/) plugin (free, opensource)\n",
    "+ [PyCharm](https://www.jetbrains.com/pycharm/) (free Community Edition)\n",
    "+ your preferred text editor \n",
    "+ etc."
   ]
  },
  {
   "cell_type": "markdown",
   "metadata": {},
   "source": [
    "# Python code\n",
    "Python code consists of (blocks of) statements and expressions. \n",
    "\n",
    "Statements are commands that have an effect: they are *executed* and do not have a value. \n",
    "\n",
    "Expressions are *evaluated*: they can be reduced to a value, which can be any Python object. Expressions only contain identifiers, literals and operators, such as arithmetic and boolean operators, the function call operator () and the subscription operator []. Expressions cannot contain statements.\n",
    "\n",
    "Statements and expressions can be entered interactively, or collected in a file and entered as a batch by either:\n",
    "+ starting the interpreter with the file as an argument ($ `python myfile.py`)\n",
    "+ loading and executing them from within Python, e.g. by using **`import myfile`**\n"
   ]
  },
  {
   "cell_type": "markdown",
   "metadata": {},
   "source": [
    "# Layout matters! \n",
    "The layout, or at least the indentation, of your code is all-important in Python. While other languages generally use some type of bracketing to structure code (i.e. to disambiguate what belongs together in the same block of code), Python uses indentation to structure code. "
   ]
  },
  {
   "cell_type": "markdown",
   "metadata": {},
   "source": [
    "So instead of say `{x, y, {a,b, {c, d}, e}, z}`, which could just as well be written as say \n",
    "\n",
    "`{x, \n",
    "y, {a,b, {c, \n",
    "d}, e}, z}`\n",
    "\n",
    "Python requires a layout like this:\n",
    "\n",
    "`\n",
    "x \n",
    "y\n",
    "   a\n",
    "   b \n",
    "       c\n",
    "       d\n",
    "   e\n",
    "z`"
   ]
  },
  {
   "cell_type": "markdown",
   "metadata": {},
   "source": [
    "Statements or expressions with the same indentations belong to the same block. The amount of whitespace is immaterial and may vary between blocks, as long as the same indentation is used within a block. The convention is to use four spaces per level (do not use tabs).\n",
    " \n",
    "In other words, white space matters, but only in so far as it affects indentation: within a single statement, e.g. a list of items, the amount of whitespace separating its components is irrelevant."
   ]
  },
  {
   "cell_type": "markdown",
   "metadata": {
    "slideshow": {
     "slide_type": "slide"
    }
   },
   "source": [
    "To recap, an expression such as `1+2` has a value: "
   ]
  },
  {
   "cell_type": "code",
   "execution_count": 4,
   "metadata": {
    "slideshow": {
     "slide_type": "fragment"
    }
   },
   "outputs": [
    {
     "data": {
      "text/plain": [
       "56"
      ]
     },
     "execution_count": 4,
     "metadata": {},
     "output_type": "execute_result"
    }
   ],
   "source": [
    "1+55"
   ]
  },
  {
   "cell_type": "markdown",
   "metadata": {},
   "source": [
    "while a statement such as `a = 3` has no value, but an effect:"
   ]
  },
  {
   "cell_type": "code",
   "execution_count": 5,
   "metadata": {
    "collapsed": true,
    "slideshow": {
     "slide_type": "fragment"
    }
   },
   "outputs": [],
   "source": [
    "a = 3"
   ]
  },
  {
   "cell_type": "markdown",
   "metadata": {
    "slideshow": {
     "slide_type": "fragment"
    }
   },
   "source": [
    "This assignment causes a new name, in this case *a* to be added to the list of known names (the *namespace*), bound to the value of the right operand of the assignment operator **`=`** (not to be confused with the **`==`** equality operator). We can now use this name as a (bound) variable in expressions:"
   ]
  },
  {
   "cell_type": "code",
   "execution_count": 6,
   "metadata": {
    "slideshow": {
     "slide_type": "fragment"
    }
   },
   "outputs": [
    {
     "data": {
      "text/plain": [
       "3"
      ]
     },
     "execution_count": 6,
     "metadata": {},
     "output_type": "execute_result"
    }
   ],
   "source": [
    "a"
   ]
  },
  {
   "cell_type": "markdown",
   "metadata": {},
   "source": [
    "Unbound names cannot be used, the interpreter will raise a NameError and execution will stop."
   ]
  },
  {
   "cell_type": "code",
   "execution_count": 18,
   "metadata": {},
   "outputs": [
    {
     "data": {
      "text/plain": [
       "4"
      ]
     },
     "execution_count": 18,
     "metadata": {},
     "output_type": "execute_result"
    }
   ],
   "source": [
    "b"
   ]
  },
  {
   "cell_type": "markdown",
   "metadata": {},
   "source": [
    "We can use these variables in expressions such as `a+b` or `a,b`. The later uses the comma as a tuple operator."
   ]
  },
  {
   "cell_type": "markdown",
   "metadata": {},
   "source": [
    "Note the use of the semi-colon to separate different statements on the same line (the convention is to stick to one statement per line)."
   ]
  },
  {
   "cell_type": "code",
   "execution_count": 1,
   "metadata": {
    "slideshow": {
     "slide_type": "fragment"
    }
   },
   "outputs": [
    {
     "ename": "NameError",
     "evalue": "name 'a' is not defined",
     "output_type": "error",
     "traceback": [
      "\u001b[1;31m---------------------------------------------------------------------------\u001b[0m",
      "\u001b[1;31mNameError\u001b[0m                                 Traceback (most recent call last)",
      "\u001b[1;32m<ipython-input-1-138e2b873c44>\u001b[0m in \u001b[0;36m<module>\u001b[1;34m()\u001b[0m\n\u001b[1;32m----> 1\u001b[1;33m \u001b[0mb\u001b[0m \u001b[1;33m=\u001b[0m \u001b[1;36m4\u001b[0m\u001b[1;33m;\u001b[0m \u001b[0mprint\u001b[0m\u001b[1;33m(\u001b[0m\u001b[0ma\u001b[0m\u001b[1;33m,\u001b[0m\u001b[0mb\u001b[0m\u001b[1;33m)\u001b[0m\u001b[1;33m\u001b[0m\u001b[0m\n\u001b[0m",
      "\u001b[1;31mNameError\u001b[0m: name 'a' is not defined"
     ]
    }
   ],
   "source": [
    "b = 4; print(a,b)\n"
   ]
  },
  {
   "cell_type": "code",
   "execution_count": 20,
   "metadata": {
    "slideshow": {
     "slide_type": "fragment"
    }
   },
   "outputs": [
    {
     "data": {
      "text/plain": [
       "(2, 4)"
      ]
     },
     "execution_count": 20,
     "metadata": {},
     "output_type": "execute_result"
    }
   ],
   "source": [
    "b = 4; a,b"
   ]
  },
  {
   "cell_type": "markdown",
   "metadata": {},
   "source": [
    "While statements have effects and no value, expressions have a value, and may have a side effect. In Python2 print is a statement: `print 9` In Python3 print is a function: `print(9)`. It returns the None object, the object used in Python to represent *nothing*, (*null, nil, void, ...*)."
   ]
  },
  {
   "cell_type": "code",
   "execution_count": 8,
   "metadata": {},
   "outputs": [
    {
     "name": "stdout",
     "output_type": "stream",
     "text": [
      "9\n"
     ]
    }
   ],
   "source": [
    "a=print(9)"
   ]
  },
  {
   "cell_type": "code",
   "execution_count": 9,
   "metadata": {
    "collapsed": true
   },
   "outputs": [],
   "source": [
    "a"
   ]
  },
  {
   "cell_type": "markdown",
   "metadata": {
    "collapsed": true
   },
   "source": [
    "# Datatypes\n",
    "Programs may use bits to represent all sorts of data (such as numbers, strings, lists, tables, records and many others). To keep track of which bits stand for what data (the memory requirements of a particular type) and to know what functions are meaningful on some piece of data, we need to specify the data type. In language such as C variables (names) can only refer to a specific type of data: this type needs to be declared before a variable can be used. A variable of type int can only have integers as its value (with some maximum), floats can only be assigned to variables of type float and so on.\n",
    "\n",
    "In Python the type is stored with the data, not with the variable. This means that all data in Python share a number of attributes, however different the actual data itself may be.\n",
    "## Everything is an object\n",
    "\n",
    "Numbers, strings, function definitions, whatever users of Python may create, they always have:\n",
    "+ a **type**, retrievable by **type**(*obj*) \n",
    "+ a **unique id**, retrievable by **id**(*obj*) \n",
    "+ a **value**\n",
    "\n",
    "This value can simply be a number, it can be a resource such as a file or window, or it can be a collection of references to other objects. \n",
    "\n",
    "Types are thus a property of a data object, not of a variable. A variable is just a name, and can refer to any object, whatever the type of that object. It can be reassigned runtime to any other object, it can even be unbound, scrapped from the record so to speak, by using the del statement: `del name`. \n",
    "\n",
    "The type and id of an object can never be changed. The value of some objects (e.g. numbers and strings) can also never be changed. Such types are **immutable**. The value of **mutable** types, such as list, set or dictionary, can be changed (items can be added, removed or updated). Note: the mutability of objects in a collection type is determined by the type of the object, not of its container, so even if collections such as tuples are themselves immutable, their elements might well still be mutable. "
   ]
  },
  {
   "cell_type": "code",
   "execution_count": 15,
   "metadata": {},
   "outputs": [
    {
     "data": {
      "text/plain": [
       "('fff', 2)"
      ]
     },
     "execution_count": 15,
     "metadata": {},
     "output_type": "execute_result"
    }
   ],
   "source": [
    "a = \"fff\"; b = a; a= 2; b, a"
   ]
  },
  {
   "cell_type": "markdown",
   "metadata": {},
   "source": [
    "### Even functions are objects"
   ]
  },
  {
   "cell_type": "code",
   "execution_count": 11,
   "metadata": {},
   "outputs": [
    {
     "name": "stdout",
     "output_type": "stream",
     "text": [
      "<class 'builtin_function_or_method'> 2169292554104\n",
      "<class 'builtin_function_or_method'> 2169292554104\n",
      "hello world\n"
     ]
    }
   ],
   "source": [
    "print(type(print), id(print))\n",
    "write = print\n",
    "print(type(write), id(write))\n",
    "write(\"hello world\")\n",
    "del write"
   ]
  },
  {
   "cell_type": "markdown",
   "metadata": {},
   "source": [
    "# Types and classes\n",
    "In Python3 the terms *type* and *class* are used interchangeably. Python always had types. Classes were added to allow custom types to be added. Built-in types and custom classes are treated similarly. We will look into this in more detail later on, for now it suffices to note that classes (types) define what operations (functions, methods) are supported by objects of that type. \n",
    "\n",
    "Adding two numbers is not the same as adding two vectors or adding two strings. We could of course define an *integer-add* and a *vector-add* and a *string-add*, and leave it to the users of these to apply the right function to the right type of objects. By defining these various add functions as class methods, we immediately gain an advantage in naming: we can now refer to *string.add* and *vector.add* and *integer.add*. In other words we can reuse the name *add* and stick the name of the class in front to disambiguate these methods.\n",
    "\n",
    "Easier and less error-prone is to let the system figure out itself which particular add method should be used to add two particular objects. Python has implemented such *dispatching on the first argument* by allowing us to say **x.add(y)**. \n",
    "\n",
    "Depending on type(x), this would be equivalent to: int.add(x,y), or str.add(x,y) or vectoradd(x,y).\n",
    "\n",
    "Note: this is just to illustrate the idea, for these built-in types things work slightly different, we will come back to this later. For now it is important to understand the notations used: \"hhh\".upper() is equivlent to str.upper(\"hhh\")"
   ]
  },
  {
   "cell_type": "code",
   "execution_count": 13,
   "metadata": {},
   "outputs": [
    {
     "data": {
      "text/plain": [
       "True"
      ]
     },
     "execution_count": 13,
     "metadata": {},
     "output_type": "execute_result"
    }
   ],
   "source": [
    "\"hhh\".upper() == str.upper(\"hhh\")"
   ]
  },
  {
   "cell_type": "code",
   "execution_count": 3,
   "metadata": {},
   "outputs": [
    {
     "data": {
      "text/plain": [
       "False"
      ]
     },
     "execution_count": 3,
     "metadata": {},
     "output_type": "execute_result"
    }
   ],
   "source": [
    "float.is_integer(x)"
   ]
  },
  {
   "cell_type": "markdown",
   "metadata": {},
   "source": [
    "## Dot notation\n",
    "The dot notation is used not only to access methods, but also attributes: **obj.att** and **obj.method()**\n",
    "\n",
    "This is even true of simple objects like numbers:"
   ]
  },
  {
   "cell_type": "code",
   "execution_count": 2,
   "metadata": {},
   "outputs": [
    {
     "name": "stdout",
     "output_type": "stream",
     "text": [
      "4.5 0.0\n"
     ]
    },
    {
     "data": {
      "text/plain": [
       "True"
      ]
     },
     "execution_count": 2,
     "metadata": {},
     "output_type": "execute_result"
    }
   ],
   "source": [
    "x = 4.5\n",
    "print(x.real, x.imag)\n",
    "4.0.is_integer()"
   ]
  },
  {
   "cell_type": "markdown",
   "metadata": {},
   "source": [
    "# Basic types\n",
    "Python comes with a number of standard types:\n",
    "+ numerics\n",
    "+ sequences\n",
    "+ sets\n",
    "+ mappings\n",
    "+ callables\n",
    "+ classes (custom types, i.e. types that you can add to the built-in types)\n",
    "+ instances of classes\n",
    "+ I/O (file) objects\n",
    "+ modules \n",
    "+ a few single value types (None, Ellipsis and NonImplemented)\n",
    "+ internal types"
   ]
  },
  {
   "cell_type": "markdown",
   "metadata": {},
   "source": [
    "## Comparisons\n",
    "\n",
    "The Python language provides a number of operators. Types differ in their support for these operators. The following table summarizes the most generally supported type of operator, the comparison operator. While not all of these are supported by all basic types, many of them are. Furthermore, as we will see, most of these operators can be customized for custom classes.\n",
    "\n",
    "The `is` and `is not` operators are special in this regard. These two operators can be applied to any two objects and will always be supported, as they simply compare their id's. They cannot be customized.\n",
    "\n",
    "|Operation \t|Meaning|\n",
    "|:----|----:|\n",
    "|`<` \t|strictly less than|\n",
    "|`<=` |\tless than or equal|\n",
    "|`>` |\tstrictly greater than|\n",
    "|`>=` |\tgreater than or equal|\n",
    "|`==` |\tequal|\n",
    "|`!=` |\tnot equal|\n",
    "|`is `|\tobject identity|\n",
    "|`is not`|\tnegated object identity|"
   ]
  },
  {
   "cell_type": "markdown",
   "metadata": {},
   "source": [
    "<!--NAVIGATION-->\n",
    "[Off to the Whirlwind notebooks](Whirlwind/04-Semantics-Operators.ipynb)"
   ]
  },
  {
   "cell_type": "markdown",
   "metadata": {},
   "source": [
    "# Numerics\n",
    "## bool\n",
    "This is the boolean type, with just two instances: True and False. The standard boolean operators **`and`**, **`or`** and **`not`** are called just that in Python. For historic and pragmatic reasons, this type is a subtype of int, with False acting as 0 and True as 1 in arithmetic operations, so True + 4 is legal and equals 5.\n",
    "\n",
    "Having a bool type does not mean that False is the only object that will be interpreted as false: other \"falsity\" values, besides 0, are e.g.:\n",
    "+ an empty set {}\n",
    "+ an empty dictionary {}\n",
    "+ an empty string \"\"\n",
    "\n",
    "While built-in operations that are meant to return a boolean will generally return a bool, `and` and `or` may not, given that these return the first argument that determines their outcome. "
   ]
  },
  {
   "cell_type": "code",
   "execution_count": null,
   "metadata": {
    "collapsed": true
   },
   "outputs": [],
   "source": [
    "True + 6, 12 or None"
   ]
  },
  {
   "cell_type": "code",
   "execution_count": null,
   "metadata": {
    "collapsed": true
   },
   "outputs": [],
   "source": [
    "bool(-3), bool(0), bool(False), bool(\"False\"), bool(\"\")"
   ]
  },
  {
   "cell_type": "markdown",
   "metadata": {},
   "source": [
    "# Numeric types: int, float, complex\n",
    "Integers have unlimited precision in Python3 (in Python2 int is at least 4 bytes, long at least 8). Float's are usually implemented using the C double type."
   ]
  },
  {
   "cell_type": "code",
   "execution_count": 21,
   "metadata": {},
   "outputs": [
    {
     "data": {
      "text/plain": [
       "8663234049605954426644038200675212212900743262211018069459689001"
      ]
     },
     "execution_count": 21,
     "metadata": {},
     "output_type": "execute_result"
    }
   ],
   "source": [
    "19**50"
   ]
  },
  {
   "cell_type": "code",
   "execution_count": 87,
   "metadata": {},
   "outputs": [
    {
     "name": "stdout",
     "output_type": "stream",
     "text": [
      "sys.float_info(max=1.7976931348623157e+308, max_exp=1024, max_10_exp=308, min=2.2250738585072014e-308, min_exp=-1021, min_10_exp=-307, dig=15, mant_dig=53, epsilon=2.220446049250313e-16, radix=2, rounds=1)\n",
      "0.1 = 0.10000000000000001\n",
      "0.2 = 0.20000000000000001\n",
      "0.3 = 0.29999999999999999\n",
      "False\n",
      "0.6 = 0.59999999999999998\n",
      "0.6 = 0.60000000000000009\n"
     ]
    }
   ],
   "source": [
    "import sys\n",
    "print(sys.float_info)\n",
    "print(\"0.1 = {0:.17f}\".format(0.1))\n",
    "print(\"0.2 = {0:.17f}\".format(0.2))\n",
    "print(\"0.3 = {0:.17f}\".format(0.3))\n",
    "print(0.1 + 0.2 + 0.3 == 0.6)\n",
    "print(\"0.6 = {0:.17f}\".format(0.6))\n",
    "print(\"0.6 = {0:.17f}\".format(0.1 + 0.2 + 0.3))"
   ]
  },
  {
   "cell_type": "markdown",
   "metadata": {},
   "source": [
    "All numeric types support the following operations:\n",
    "![alt text](arithops.jpg)"
   ]
  },
  {
   "cell_type": "markdown",
   "metadata": {},
   "source": [
    "![alt text](arithadditional.png)\n",
    "\n",
    "Notice that for some operations you need to import the **math** module."
   ]
  },
  {
   "cell_type": "markdown",
   "metadata": {},
   "source": [
    "## Numeric literals\n",
    "Integer literals can be in decimal, binary, octal and hexadecimal format:"
   ]
  },
  {
   "cell_type": "raw",
   "metadata": {},
   "source": [
    "integer      ::=  decinteger | bininteger | octinteger | hexinteger\n",
    "decinteger   ::=  nonzerodigit ([\"_\"] digit)* | \"0\"+ ([\"_\"] \"0\")*\n",
    "bininteger   ::=  \"0\" (\"b\" | \"B\") ([\"_\"] bindigit)+\n",
    "octinteger   ::=  \"0\" (\"o\" | \"O\") ([\"_\"] octdigit)+\n",
    "hexinteger   ::=  \"0\" (\"x\" | \"X\") ([\"_\"] hexdigit)+\n",
    "nonzerodigit ::=  \"1\"...\"9\"\n",
    "digit        ::=  \"0\"...\"9\"\n",
    "bindigit     ::=  \"0\" | \"1\"\n",
    "octdigit     ::=  \"0\"...\"7\"\n",
    "hexdigit     ::=  digit | \"a\"...\"f\" | \"A\"...\"F\""
   ]
  },
  {
   "cell_type": "code",
   "execution_count": null,
   "metadata": {
    "collapsed": true
   },
   "outputs": [],
   "source": [
    "oct(28), hex(28), bin(28)"
   ]
  },
  {
   "cell_type": "code",
   "execution_count": 89,
   "metadata": {},
   "outputs": [
    {
     "data": {
      "text/plain": [
       "(34, 52)"
      ]
     },
     "execution_count": 89,
     "metadata": {},
     "output_type": "execute_result"
    }
   ],
   "source": [
    "int('34'), int('34',16)"
   ]
  },
  {
   "cell_type": "markdown",
   "metadata": {},
   "source": [
    "### To manipulate binary numbers:"
   ]
  },
  {
   "cell_type": "markdown",
   "metadata": {},
   "source": [
    "![Bitwise operators](bitwise ops.png)"
   ]
  },
  {
   "cell_type": "code",
   "execution_count": 78,
   "metadata": {},
   "outputs": [
    {
     "data": {
      "text/plain": [
       "-11"
      ]
     },
     "execution_count": 78,
     "metadata": {},
     "output_type": "execute_result"
    }
   ],
   "source": [
    "~0 ^ 10"
   ]
  },
  {
   "cell_type": "markdown",
   "metadata": {},
   "source": [
    "### Conversions\n",
    "An integer can be converted to a float and vice versa. As we will see later on, these int and float functions are not converters, but constructors of objects of class int or float. The numeric value are just arguments to these constructors. "
   ]
  },
  {
   "cell_type": "code",
   "execution_count": 83,
   "metadata": {
    "scrolled": true
   },
   "outputs": [
    {
     "data": {
      "text/plain": [
       "(1590160080, 1718896961096, 1590160080)"
      ]
     },
     "execution_count": 83,
     "metadata": {},
     "output_type": "execute_result"
    }
   ],
   "source": [
    "(id(9), id(float(9)), id(int(float(9))))"
   ]
  },
  {
   "cell_type": "markdown",
   "metadata": {},
   "source": [
    "## Floats\n",
    "Literals can be entered using decimal or scientific notation"
   ]
  },
  {
   "cell_type": "code",
   "execution_count": 90,
   "metadata": {},
   "outputs": [
    {
     "data": {
      "text/plain": [
       "(44.789, 44.789, 44.789)"
      ]
     },
     "execution_count": 90,
     "metadata": {},
     "output_type": "execute_result"
    }
   ],
   "source": [
    "44.789, 0.44789e2, 447.89E-1"
   ]
  },
  {
   "cell_type": "markdown",
   "metadata": {},
   "source": [
    "## Complex numbers\n",
    "Imaginary numbers are marked using the j suffix."
   ]
  },
  {
   "cell_type": "code",
   "execution_count": 96,
   "metadata": {},
   "outputs": [
    {
     "name": "stdout",
     "output_type": "stream",
     "text": [
      "(5+4j) (9+3j) 8.0 (5+3j)\n"
     ]
    },
    {
     "data": {
      "text/plain": [
       "float"
      ]
     },
     "execution_count": 96,
     "metadata": {},
     "output_type": "execute_result"
    }
   ],
   "source": [
    "a = complex(5,4)\n",
    "b = 9+3j\n",
    "c = a.real + b.imag\n",
    "d = complex(a.real, b.imag)\n",
    "print(a,b,c,d)"
   ]
  },
  {
   "cell_type": "markdown",
   "metadata": {},
   "source": [
    "# Sequence types\n",
    "+ **list**: a mutable sequence of objects of any type\n",
    "+ **tuple**: an immutable sequence of objects of any typeb\n",
    "+ **range**: an immutable range of numbers\n",
    "+ **str**: a text string, i.e. an immutable sequence of characters\n",
    "+ **bytes / bytesarray**: immutable / mutable sequence of bytes"
   ]
  },
  {
   "cell_type": "markdown",
   "metadata": {},
   "source": [
    "### All sequence types support:\n",
    "![Common sequence operations](commonseqops.png)\n"
   ]
  }
 ],
 "metadata": {
  "kernelspec": {
   "display_name": "Python 3",
   "language": "python",
   "name": "python3"
  },
  "language_info": {
   "codemirror_mode": {
    "name": "ipython",
    "version": 3
   },
   "file_extension": ".py",
   "mimetype": "text/x-python",
   "name": "python",
   "nbconvert_exporter": "python",
   "pygments_lexer": "ipython3",
   "version": "3.6.3"
  }
 },
 "nbformat": 4,
 "nbformat_minor": 2
}
